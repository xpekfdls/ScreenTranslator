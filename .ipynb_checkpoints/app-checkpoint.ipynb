{
 "cells": [
  {
   "cell_type": "code",
   "execution_count": 1,
   "metadata": {},
   "outputs": [],
   "source": [
    "%gui qt\n"
   ]
  },
  {
   "cell_type": "code",
   "execution_count": 19,
   "metadata": {},
   "outputs": [
    {
     "name": "stdout",
     "output_type": "stream",
     "text": [
      "init screen\n"
     ]
    },
    {
     "ename": "NameError",
     "evalue": "name 'pm' is not defined",
     "output_type": "error",
     "traceback": [
      "\u001b[1;31m---------------------------------------------------------------------------\u001b[0m",
      "\u001b[1;31mNameError\u001b[0m                                 Traceback (most recent call last)",
      "\u001b[1;32m<ipython-input-19-a35563bbee43>\u001b[0m in \u001b[0;36mcaptureScreen\u001b[1;34m(self, bbox)\u001b[0m\n\u001b[0;32m     64\u001b[0m \u001b[1;31m#         qim = QImage(imqt)\u001b[0m\u001b[1;33m\u001b[0m\u001b[1;33m\u001b[0m\u001b[1;33m\u001b[0m\u001b[0m\n\u001b[0;32m     65\u001b[0m \u001b[1;31m#         pm = QPixmap(qim)\u001b[0m\u001b[1;33m\u001b[0m\u001b[1;33m\u001b[0m\u001b[1;33m\u001b[0m\u001b[0m\n\u001b[1;32m---> 66\u001b[1;33m         \u001b[0mself\u001b[0m\u001b[1;33m.\u001b[0m\u001b[0mdebugger\u001b[0m\u001b[1;33m.\u001b[0m\u001b[0mupdateImage\u001b[0m\u001b[1;33m(\u001b[0m\u001b[0mpm\u001b[0m\u001b[1;33m)\u001b[0m\u001b[1;33m\u001b[0m\u001b[1;33m\u001b[0m\u001b[0m\n\u001b[0m\u001b[0;32m     67\u001b[0m         \u001b[1;31m#self.debugger.resize(bbox[-2], bbox[-1])\u001b[0m\u001b[1;33m\u001b[0m\u001b[1;33m\u001b[0m\u001b[1;33m\u001b[0m\u001b[0m\n\u001b[0;32m     68\u001b[0m \u001b[1;33m\u001b[0m\u001b[0m\n",
      "\u001b[1;31mNameError\u001b[0m: name 'pm' is not defined"
     ]
    },
    {
     "ename": "SystemExit",
     "evalue": "0",
     "output_type": "error",
     "traceback": [
      "An exception has occurred, use %tb to see the full traceback.\n",
      "\u001b[1;31mSystemExit\u001b[0m\u001b[1;31m:\u001b[0m 0\n"
     ]
    }
   ],
   "source": [
    "from PyQt5 import QtCore\n",
    "from PyQt5.QtWidgets import QApplication, QLabel, QPushButton, QWidget, QMainWindow, QMessageBox, QVBoxLayout\n",
    "from PyQt5.QtGui import QIcon, QPixmap, QImage\n",
    "from PIL.ImageQt import ImageQt\n",
    "import time\n",
    "from PIL import ImageGrab\n",
    "from random import random, randint\n",
    "import sys\n",
    "\n",
    "class GetScreenshot(QWidget):\n",
    "    def __init__(self, bbox=None):\n",
    "        super().__init__()\n",
    "        self.initUI()\n",
    "        \n",
    "    def initUI(self):\n",
    "        print('init screen')\n",
    "        self.setGeometry(100, 100, 300, 220)\n",
    "        self.setWindowTitle('GetScreenshot')      \n",
    "        self.setWindowFlags(QtCore.Qt.WindowStaysOnTopHint)\n",
    "        self.setWindowOpacity(0.3)\n",
    "        \n",
    "        self.bbox = (self.geometry().x(), self.geometry().y(), \n",
    "                     self.geometry().x()+self.geometry().width(),\n",
    "                     self.geometry().y()+self.geometry().height())\n",
    "        self.show() # bbox = (geometry.x(), geometry.y(), geometry.width(), geometry.height())\n",
    "            \n",
    "    def closeEvent(self, event):\n",
    "        event.accept()\n",
    "        app = QtCore.QCoreApplication.instance()\n",
    "        app.closeAllWindows()\n",
    "        QtCore.QCoreApplication.exit(0)   \n",
    "        \n",
    "    def moveEvent(self, event):        \n",
    "        self.bbox = (self.geometry().x(), self.geometry().y(), \n",
    "                     self.geometry().x()+self.geometry().width(),\n",
    "                     self.geometry().y()+self.geometry().height())\n",
    "        \n",
    "    def resizeEvent(self, event):\n",
    "        self.bbox = (self.geometry().x(), self.geometry().y(), \n",
    "                     self.geometry().x()+self.geometry().width(),\n",
    "                     self.geometry().y()+self.geometry().height())  \n",
    "            \n",
    "class Controller(QWidget):\n",
    "    def __init__(self, bbox=None):\n",
    "        super().__init__()        \n",
    "        self.capturewindow = GetScreenshot()    \n",
    "        self.debugger = Debugger()    \n",
    "        self.initUI()\n",
    "        \n",
    "    def initUI(self):\n",
    "        self.setGeometry(800, 300, 300, 220)\n",
    "        self.setWindowTitle('Controller')\n",
    "        self.setWindowFlags(QtCore.Qt.WindowStaysOnTopHint)    \n",
    "        captureScreenBtn = QPushButton('Capture', self)\n",
    "        captureScreenBtn.clicked.connect(self.captureScreen)\n",
    "    \n",
    "        self.show()\n",
    "    \n",
    "    def captureScreen(self, bbox=None):\n",
    "#         bbox= self.capturewindow.bbox\n",
    "#         print(bbox)\n",
    "#         im = ImageGrab.grab(bbox)\n",
    "#         imqt = ImageQt(im)\n",
    "#         qim = QImage(imqt)\n",
    "#         pm = QPixmap(qim)\n",
    "        self.debugger.updateImage(\"xx\")\n",
    "        #self.debugger.resize(bbox[-2], bbox[-1])\n",
    "    \n",
    "    def closeEvent(self, event):\n",
    "        event.accept()\n",
    "        app = QtCore.QCoreApplication.instance()\n",
    "        app.closeAllWindows()\n",
    "        QtCore.QCoreApplication.exit(0)\n",
    "        \n",
    "class Debugger(QWidget): \n",
    "    def __init__(self, bbox=None):\n",
    "        super().__init__()\n",
    "        self.initUI()\n",
    "        \n",
    "    def initUI(self):\n",
    "        self.setGeometry(2700, 800, 300, 220)\n",
    "        self.setWindowTitle('Debugger') \n",
    "        self.setWindowFlags(QtCore.Qt.WindowStaysOnTopHint)       \n",
    "        \n",
    "        self.show()\n",
    "        \n",
    "    def updateImage(self, img):\n",
    "        \n",
    "        label = QLabel(self)   \n",
    "        pixmap = QPixmap(\"images/test.jpg\")\n",
    "        label.setPixmap(pixmap)\n",
    "        self.resize(pixmap.width(),pixmap.height())\n",
    "        QApplication.processEvents()\n",
    "    \n",
    "    def closeEvent(self, event):\n",
    "        event.accept()\n",
    "        app = QtCore.QCoreApplication.instance()\n",
    "        app.closeAllWindows()\n",
    "        QtCore.QCoreApplication.exit(0)\n",
    "        \n",
    "class MainWindow():\n",
    "    def __init__(self):\n",
    "        super().__init__()\n",
    "        self.openwindow()\n",
    "    \n",
    "    def openwindow(self):      \n",
    "        self.controller = Controller()    \n",
    "        \n",
    "app = QtCore.QCoreApplication.instance()\n",
    "if app is None:\n",
    "    app = QApplication(sys.argv)\n",
    "screen = MainWindow()\n",
    "sys.exit(app.exec_())"
   ]
  },
  {
   "cell_type": "code",
   "execution_count": null,
   "metadata": {},
   "outputs": [],
   "source": []
  },
  {
   "cell_type": "code",
   "execution_count": null,
   "metadata": {},
   "outputs": [],
   "source": []
  },
  {
   "cell_type": "code",
   "execution_count": null,
   "metadata": {},
   "outputs": [],
   "source": []
  },
  {
   "cell_type": "code",
   "execution_count": null,
   "metadata": {},
   "outputs": [],
   "source": []
  },
  {
   "cell_type": "code",
   "execution_count": null,
   "metadata": {},
   "outputs": [],
   "source": []
  }
 ],
 "metadata": {
  "kernelspec": {
   "display_name": "Python 3",
   "language": "python",
   "name": "python3"
  },
  "language_info": {
   "codemirror_mode": {
    "name": "ipython",
    "version": 3
   },
   "file_extension": ".py",
   "mimetype": "text/x-python",
   "name": "python",
   "nbconvert_exporter": "python",
   "pygments_lexer": "ipython3",
   "version": "3.8.1"
  }
 },
 "nbformat": 4,
 "nbformat_minor": 4
}
